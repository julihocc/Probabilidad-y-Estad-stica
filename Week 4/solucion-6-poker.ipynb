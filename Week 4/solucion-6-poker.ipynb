{
 "cells": [
  {
   "cell_type": "markdown",
   "metadata": {},
   "source": [
    "# TAREA 6\n",
    "\n",
    "* Unidad: Introducción a la probabilidad\n",
    "* Materia: Matemáticas para Ciencia de Datos\n",
    "* Programa: Maestría en Ciencia de Datos e Información, INFOTEC\n",
    "* Docente:  Juliho Castillo Colmenares, Sc.D.\n",
    "\n",
    "## INSTRUCCIONES\n",
    "\n",
    "1. Del libro \"Ciaburro, G. (2020). Hands-On Simulation Modeling with Python: Develop Simulation Models to Get Accurate Results and Enhance Decision-making Processes. United Kingdom: Packt Publishing.\", revisa el capítulo 4 \"Exploring Monte Carlo Simulations\".\n",
    "2. Reúnete con los miembros de tu equipo para comentar la lectura y la tarea.\n",
    "3. Resuelvan el siguiente problema, desarrollando de manera clara todos y cada unos de los puntos.\n",
    "4. Si incluyes bloque de código, coméntalos de manera concisa, enfatizando su relación con la solución.\n",
    "5. Detalla la información auxiliar de las gráficas para que tu conclusión sea clara.  \n",
    "6. Organiza tu documento, escribe de manera explícita el enunciado de cada inciso y sepáralos utilizando secciones.\n",
    "7. Transcríbanlo a un archivo PDF y suban un único archivo por equipo. \n",
    "8. Se considerará un inciso como incorrecto si el resultado no es el esperado, y se considerará incompleto si el resultado no está debidamente justificado.\n"
   ]
  },
  {
   "cell_type": "markdown",
   "metadata": {},
   "source": [
    "\n",
    "## PROBLEMA\n",
    "\n",
    "Vamos a simular el siguiente juego: De una baraja inglesa, se selecciona una mano (5 cartas, sin reemplazo). Si la mano es no es un póquer pierdes $2, pero si la mano es un póquer, la casa te paga un monto acordado.\n",
    "\n",
    "*Para realizar tus simulaciones utiliza el paquete `Numpy`. De manera particular, si utilizar números (pseudo-aleatorio), fija el generador usando la línea de código `numpy.random.seed(0)`.*"
   ]
  },
  {
   "cell_type": "markdown",
   "metadata": {},
   "source": [
    "### Inciso A\n",
    "\n",
    "¿Cuál sería un monto justo para que tu ganancia esperada sea cero? Determina una cantidad justificando tu respuesta.\n",
    "\n",
    "Sugerencia: [Revisa la lista de manos de póquer que se encuentra en la Wikipedia](https://es.wikipedia.org/wiki/P%C3%B3quer) e investiga como calcular la probabilidad teórica de obtener un full. "
   ]
  },
  {
   "cell_type": "code",
   "execution_count": 18,
   "metadata": {},
   "outputs": [
    {
     "data": {
      "text/plain": [
       "0.00024009603841536616"
      ]
     },
     "execution_count": 18,
     "metadata": {},
     "output_type": "execute_result"
    }
   ],
   "source": [
    "poquers = 624\n",
    "espacio_muestral = 2_598_960\n",
    "probabilidad_teorica = poquers/espacio_muestral\n",
    "probabilidad_teorica"
   ]
  },
  {
   "cell_type": "code",
   "execution_count": 19,
   "metadata": {},
   "outputs": [
    {
     "name": "stdout",
     "output_type": "stream",
     "text": [
      "6246.0\n"
     ]
    }
   ],
   "source": [
    "perdida = 2\n",
    "ingreso = perdida*(espacio_muestral-poquer)/poquer\n",
    "print(ingreso)"
   ]
  },
  {
   "cell_type": "markdown",
   "metadata": {},
   "source": [
    "El monto anterior se basa en la probabilidad teórica de obtener un póquer. Pero no siempre amanecemos con buena suerte, y esperar que la suerte nos acompañe. Por eso, haremos una simulación para saber cuanto dinero podríamos esperar perder en una mala racha. "
   ]
  },
  {
   "cell_type": "markdown",
   "metadata": {},
   "source": [
    "### Inciso B\n",
    "\n",
    "Define una función que realice una simulación de 10,000 de manos; y devuelva la frecuencia absoluta con la que aparece un **full** (*full house* en inglés). "
   ]
  },
  {
   "cell_type": "code",
   "execution_count": 2,
   "metadata": {},
   "outputs": [],
   "source": [
    "import numpy as np\n",
    "import matplotlib.pyplot as plt\n",
    "from collections import Counter\n",
    "\n",
    "np.random.seed(0)\n"
   ]
  },
  {
   "cell_type": "code",
   "execution_count": 3,
   "metadata": {},
   "outputs": [],
   "source": [
    "S =  []\n",
    "\n",
    "palos = [\"Espada\", \"Copa\", \"Oro\", \"Basto\"]\n",
    "\n",
    "numerales = [\"A\", \"K\", \"Q\", \"J\", 10, 9, 8, 7, 6, 5, 4, 3, 2]\n",
    "\n",
    "for palo in palos:\n",
    "    for numeral in numerales:\n",
    "        S.append((palo, numeral))\n",
    "\n",
    "S = np.array(S)"
   ]
  },
  {
   "cell_type": "code",
   "execution_count": 4,
   "metadata": {},
   "outputs": [],
   "source": [
    "def simulacion(total = 10_000):\n",
    "    N = 0\n",
    "    for _ in range(total):\n",
    "        mano_indices = np.random.choice(len(S), size= 5, replace=False)\n",
    "        mano = S[mano_indices]\n",
    "        mano_valores = [y for x,y in mano]\n",
    "        resultados = Counter(mano_valores)\n",
    "        if set([4,1]) == set(resultados.values()):            \n",
    "            N += 1\n",
    "    return N "
   ]
  },
  {
   "cell_type": "markdown",
   "metadata": {},
   "source": [
    "### Inciso C\n",
    "\n",
    "Repite la simulación 1000 veces y registra los resultados. COn esta información, crea un histograma que refleje la frecuencia absoluta de cada resultado. "
   ]
  },
  {
   "cell_type": "code",
   "execution_count": 5,
   "metadata": {},
   "outputs": [
    {
     "name": "stdout",
     "output_type": "stream",
     "text": [
      "Counter({23: 10, 21: 10, 26: 9, 28: 9, 24: 8, 19: 8, 22: 8, 30: 6, 31: 6, 25: 5, 16: 4, 20: 4, 33: 3, 18: 2, 29: 2, 27: 2, 14: 1, 17: 1, 15: 1, 13: 1})\n"
     ]
    }
   ],
   "source": [
    "numero_manos = 100_000\n",
    "repeticiones = 100\n",
    "\n",
    "simulaciones = np.array([simulacion(total = numero_manos) for _ in range(repeticiones)])\n",
    "print(Counter(simulaciones))"
   ]
  },
  {
   "cell_type": "code",
   "execution_count": 6,
   "metadata": {},
   "outputs": [
    {
     "name": "stdout",
     "output_type": "stream",
     "text": [
      "13 33\n"
     ]
    }
   ],
   "source": [
    "min_s = min(simulaciones)\n",
    "max_s = max(simulaciones)\n",
    "print(min_s, max_s)"
   ]
  },
  {
   "cell_type": "code",
   "execution_count": 7,
   "metadata": {},
   "outputs": [
    {
     "data": {
      "text/plain": [
       "23.87"
      ]
     },
     "execution_count": 7,
     "metadata": {},
     "output_type": "execute_result"
    }
   ],
   "source": [
    "mu = simulaciones.mean()\n",
    "mu"
   ]
  },
  {
   "cell_type": "code",
   "execution_count": 8,
   "metadata": {},
   "outputs": [
    {
     "data": {
      "text/plain": [
       "4.559945175109017"
      ]
     },
     "execution_count": 8,
     "metadata": {},
     "output_type": "execute_result"
    }
   ],
   "source": [
    "sigma = simulaciones.std()\n",
    "sigma "
   ]
  },
  {
   "cell_type": "code",
   "execution_count": 9,
   "metadata": {},
   "outputs": [
    {
     "data": {
      "image/png": "[encoded data removed]",
      "text/plain": [
       "<Figure size 432x288 with 1 Axes>"
      ]
     },
     "metadata": {
      "needs_background": "light"
     },
     "output_type": "display_data"
    }
   ],
   "source": [
    "\n",
    "plt.hist(simulaciones, \n",
    "    bins=range(min_s, max_s+1))\n",
    "\n",
    "plt.axvline(mu, color= 'red')\n",
    "\n",
    "plt.show()"
   ]
  },
  {
   "cell_type": "markdown",
   "metadata": {},
   "source": [
    "### Inciso D\n",
    "\n",
    "Con la información anterior, calcula la media y la desviación estándar de las ganancias de todas las simulaciones. Interpreta este resultado usando la [regla empírica.](https://en.wikipedia.org/wiki/68%E2%80%9395%E2%80%9399.7_rule)"
   ]
  },
  {
   "cell_type": "code",
   "execution_count": 20,
   "metadata": {},
   "outputs": [
    {
     "data": {
      "text/plain": [
       "-872.175"
      ]
     },
     "execution_count": 20,
     "metadata": {},
     "output_type": "execute_result"
    }
   ],
   "source": [
    "ganancias = ingreso*simulaciones - 1.5*(numero_manos-simulaciones)\n",
    "mu_g = ganancias.mean()\n",
    "mu_g "
   ]
  },
  {
   "cell_type": "code",
   "execution_count": 21,
   "metadata": {},
   "outputs": [
    {
     "data": {
      "text/plain": [
       "28488.25748149358"
      ]
     },
     "execution_count": 21,
     "metadata": {},
     "output_type": "execute_result"
    }
   ],
   "source": [
    "sigma_g = ganancias.std()\n",
    "sigma_g"
   ]
  },
  {
   "cell_type": "code",
   "execution_count": 22,
   "metadata": {},
   "outputs": [
    {
     "name": "stdout",
     "output_type": "stream",
     "text": [
      "0.65\n",
      "0.95\n",
      "1.0\n"
     ]
    }
   ],
   "source": [
    "for k in [1,2,3]:\n",
    "    print(np.mean(np.abs(ganancias-mu_g)<=k*sigma_g))"
   ]
  },
  {
   "cell_type": "markdown",
   "metadata": {},
   "source": [
    "### Inciso E\n",
    "\n",
    "Determina un valor $p$ en el rango de los resultados de tu simulación tal que, aproximadamente, el 5% de los resultados sean menores o iguales que este valor, y calcula la ganancia o perdida esperada para este valor. Interpreta este resultado en términos del [VaR.](https://en.wikipedia.org/wiki/Value_at_risk)\n",
    "\n",
    "*Nota: Al valor $p$ se le llama 5-percentil*."
   ]
  },
  {
   "cell_type": "code",
   "execution_count": 23,
   "metadata": {},
   "outputs": [
    {
     "data": {
      "text/plain": [
       "16.0"
      ]
     },
     "execution_count": 23,
     "metadata": {},
     "output_type": "execute_result"
    }
   ],
   "source": [
    "p5 = np.percentile(simulaciones, 5)\n",
    "p5"
   ]
  },
  {
   "cell_type": "code",
   "execution_count": 24,
   "metadata": {},
   "outputs": [
    {
     "name": "stdout",
     "output_type": "stream",
     "text": [
      "0.07\n"
     ]
    }
   ],
   "source": [
    "print(np.mean(simulaciones <= p5))"
   ]
  },
  {
   "cell_type": "code",
   "execution_count": 25,
   "metadata": {},
   "outputs": [
    {
     "data": {
      "text/plain": [
       "-50040.0"
      ]
     },
     "execution_count": 25,
     "metadata": {},
     "output_type": "execute_result"
    }
   ],
   "source": [
    "ingreso*p5 - 1.5*(numero_manos-p5)"
   ]
  },
  {
   "cell_type": "code",
   "execution_count": 26,
   "metadata": {},
   "outputs": [
    {
     "data": {
      "text/plain": [
       "16.369557640022066"
      ]
     },
     "execution_count": 26,
     "metadata": {},
     "output_type": "execute_result"
    }
   ],
   "source": [
    "\"\"\"\n",
    "Aproximación teórica\n",
    "\"\"\"\n",
    "from scipy.stats import norm\n",
    "X = norm(mu, sigma)\n",
    "p5_teorico = X.ppf(0.05)\n",
    "p5_teorico"
   ]
  },
  {
   "cell_type": "code",
   "execution_count": 27,
   "metadata": {},
   "outputs": [
    {
     "data": {
      "text/plain": [
       "-47731.18864396216"
      ]
     },
     "execution_count": 27,
     "metadata": {},
     "output_type": "execute_result"
    }
   ],
   "source": [
    "ingreso*p5_teorico - 1.5*(numero_manos-p5_teorico)"
   ]
  }
 ],
 "metadata": {
  "kernelspec": {
   "display_name": "Python 3.8.11 ('workspace')",
   "language": "python",
   "name": "python3"
  },
  "language_info": {
   "codemirror_mode": {
    "name": "ipython",
    "version": 3
   },
   "file_extension": ".py",
   "mimetype": "text/x-python",
   "name": "python",
   "nbconvert_exporter": "python",
   "pygments_lexer": "ipython3",
   "version": "3.8.11"
  },
  "orig_nbformat": 4,
  "vscode": {
   "interpreter": {
    "hash": "c1ceec73d4e7042bc403b2b01a041491c3c25db7ed91d0579e35b4f4d25ee65b"
   }
  }
 },
 "nbformat": 4,
 "nbformat_minor": 2
}
